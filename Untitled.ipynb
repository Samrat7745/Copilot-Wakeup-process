{
 "cells": [
  {
   "cell_type": "code",
   "execution_count": 1,
   "id": "f5859a4b-533d-46d7-9a33-ec369484409d",
   "metadata": {},
   "outputs": [],
   "source": [
    "import subprocess\n",
    "import time\n",
    "import speech_recognition as sr\n",
    "import pyttsx3\n",
    "import uiautomation as auto\n",
    "import win32gui\n",
    "import win32con\n",
    "import tkinter as tk\n",
    "import threading"
   ]
  },
  {
   "cell_type": "code",
   "execution_count": 2,
   "id": "21bc5e79-0445-4d75-a193-aabbf9c06c17",
   "metadata": {},
   "outputs": [],
   "source": [
    "engine = pyttsx3.init()\n",
    "engine.setProperty('rate', 175)"
   ]
  },
  {
   "cell_type": "code",
   "execution_count": 3,
   "id": "5e01d6d0-d542-444d-ba0c-4370870373e9",
   "metadata": {},
   "outputs": [],
   "source": [
    "def speak(text):\n",
    "    engine.say(text)\n",
    "    engine.runAndWait()"
   ]
  },
  {
   "cell_type": "code",
   "execution_count": 4,
   "id": "16b0fdcd-f59c-4d8f-b9d8-1157a3b8a504",
   "metadata": {},
   "outputs": [],
   "source": [
    "def show_ui(status_text=\"Listening...\"):\n",
    "    def run_ui():\n",
    "        root = tk.Tk()\n",
    "        root.title(\"Copilot Assistant\")\n",
    "        root.geometry(\"320x120+100+100\")\n",
    "        root.configure(bg=\"#1e1e1e\")\n",
    "        root.overrideredirect(True)  # No title bar\n",
    "        root.attributes(\"-topmost\", True)\n",
    "\n",
    "        label = tk.Label(root, text=status_text, fg=\"white\", bg=\"#1e1e1e\", font=(\"Segoe UI\", 16))\n",
    "        label.pack(expand=True)\n",
    "\n",
    "        # Auto-close after 6 seconds\n",
    "        root.after(6000, root.destroy)\n",
    "        root.mainloop()\n",
    "\n",
    "    threading.Thread(target=run_ui).start()"
   ]
  },
  {
   "cell_type": "code",
   "execution_count": 5,
   "id": "efe8fa74-b1f0-45fd-b7bf-6dfd1db77a19",
   "metadata": {},
   "outputs": [],
   "source": [
    "def hide_edge_window():\n",
    "    time.sleep(5)  # Wait for Copilot to load\n",
    "    hwnd = win32gui.FindWindow(None, \"Microsoft Edge\")\n",
    "    if hwnd:\n",
    "        win32gui.ShowWindow(hwnd, win32con.SW_HIDE)\n",
    "        print(\"[+] Edge window hidden\")\n",
    "    else:\n",
    "        print(\"[!] Edge window not found\")"
   ]
  },
  {
   "cell_type": "code",
   "execution_count": 6,
   "id": "1383fdd0-a58a-4742-a648-1dddfbfb9b35",
   "metadata": {},
   "outputs": [],
   "source": [
    "def activate_copilot_mic():\n",
    "    print(\"[*] Activating Copilot voice input...\")\n",
    "    edge_window = auto.WindowControl(searchDepth=1, ClassName='Chrome_WidgetWin_1')\n",
    "    mic_button = edge_window.ButtonControl(Name=\"Start voice input\")\n",
    "    if mic_button.Exists(5):\n",
    "        mic_button.Click()\n",
    "        print(\"[+] Mic activated!\")\n",
    "    else:\n",
    "        print(\"[!] Mic button not found\")"
   ]
  },
  {
   "cell_type": "code",
   "execution_count": 7,
   "id": "3e376184-cced-4941-bbd0-b5d8a8da93b0",
   "metadata": {},
   "outputs": [],
   "source": [
    "def launch_copilot():\n",
    "    print(\"[*] Launching Copilot...\")\n",
    "    subprocess.Popen(['explorer', 'microsoft-edge://?ux=copilot&source=taskbar'])\n",
    "    time.sleep(5)"
   ]
  },
  {
   "cell_type": "code",
   "execution_count": 8,
   "id": "c2eecd6c-5de3-4119-9fa1-a6e19ba655d1",
   "metadata": {},
   "outputs": [],
   "source": [
    "def listen_for_wake_word():\n",
    "    r = sr.Recognizer()\n",
    "    with sr.Microphone() as source:\n",
    "        print(\"[*] Listening for wake word: 'Hey Copilot'...\")\n",
    "        while True:\n",
    "            try:\n",
    "                audio = r.listen(source)\n",
    "                text = r.recognize_google(audio).lower()\n",
    "                print(f\"[DEBUG] Heard: {text}\")\n",
    "                if \"hey copilot\" in text:\n",
    "                    print(\"[+] Wake word detected!\")\n",
    "                    speak(\"Yes, how can I help?\")\n",
    "                    show_ui(\"Activating Copilot...\")\n",
    "                    start_copilot_process()\n",
    "            except sr.UnknownValueError:\n",
    "                continue\n",
    "            except sr.RequestError:\n",
    "                print(\"[!] Speech Recognition API error\")\n",
    "                continue\n"
   ]
  },
  {
   "cell_type": "code",
   "execution_count": 9,
   "id": "392865e8-3ff8-4964-a648-8a9ff4fad65a",
   "metadata": {},
   "outputs": [],
   "source": [
    "def start_copilot_process():\n",
    "    launch_copilot()\n",
    "    activate_copilot_mic()\n",
    "    hide_edge_window()\n",
    "    show_ui(\"Copilot Voice Ready!\")"
   ]
  },
  {
   "cell_type": "code",
   "execution_count": 10,
   "id": "3f88da37-1f79-4d72-bdae-48b2ad8f099e",
   "metadata": {},
   "outputs": [
    {
     "name": "stdout",
     "output_type": "stream",
     "text": [
      "[*] Listening for wake word: 'Hey Copilot'...\n",
      "[DEBUG] Heard: hey gopal\n",
      "[DEBUG] Heard: hardik open\n",
      "[DEBUG] Heard: hardik open\n",
      "[DEBUG] Heard: best 123\n",
      "[DEBUG] Heard: give me some song movie names\n",
      "[DEBUG] Heard: exit\n"
     ]
    },
    {
     "ename": "KeyboardInterrupt",
     "evalue": "",
     "output_type": "error",
     "traceback": [
      "\u001b[31m---------------------------------------------------------------------------\u001b[39m",
      "\u001b[31mKeyboardInterrupt\u001b[39m                         Traceback (most recent call last)",
      "\u001b[36mCell\u001b[39m\u001b[36m \u001b[39m\u001b[32mIn[10]\u001b[39m\u001b[32m, line 2\u001b[39m\n\u001b[32m      1\u001b[39m \u001b[38;5;28;01mif\u001b[39;00m \u001b[34m__name__\u001b[39m == \u001b[33m\"\u001b[39m\u001b[33m__main__\u001b[39m\u001b[33m\"\u001b[39m:\n\u001b[32m----> \u001b[39m\u001b[32m2\u001b[39m     listen_for_wake_word()\n",
      "\u001b[36mCell\u001b[39m\u001b[36m \u001b[39m\u001b[32mIn[8]\u001b[39m\u001b[32m, line 7\u001b[39m, in \u001b[36mlisten_for_wake_word\u001b[39m\u001b[34m()\u001b[39m\n\u001b[32m      5\u001b[39m \u001b[38;5;28;01mwhile\u001b[39;00m \u001b[38;5;28;01mTrue\u001b[39;00m:\n\u001b[32m      6\u001b[39m     \u001b[38;5;28;01mtry\u001b[39;00m:\n\u001b[32m----> \u001b[39m\u001b[32m7\u001b[39m         audio = r.listen(source)\n\u001b[32m      8\u001b[39m         text = r.recognize_google(audio).lower()\n\u001b[32m      9\u001b[39m         \u001b[38;5;28mprint\u001b[39m(\u001b[33mf\u001b[39m\u001b[33m\"\u001b[39m\u001b[33m[DEBUG] Heard: \u001b[39m\u001b[38;5;132;01m{\u001b[39;00mtext\u001b[38;5;132;01m}\u001b[39;00m\u001b[33m\"\u001b[39m)\n",
      "\u001b[36mFile \u001b[39m\u001b[32m~\\miniconda3\\envs\\wakeupfunction\\Lib\\site-packages\\speech_recognition\\__init__.py:460\u001b[39m, in \u001b[36mRecognizer.listen\u001b[39m\u001b[34m(self, source, timeout, phrase_time_limit, snowboy_configuration, stream)\u001b[39m\n\u001b[32m    458\u001b[39m result = \u001b[38;5;28mself\u001b[39m._listen(source, timeout, phrase_time_limit, snowboy_configuration, stream)\n\u001b[32m    459\u001b[39m \u001b[38;5;28;01mif\u001b[39;00m \u001b[38;5;129;01mnot\u001b[39;00m stream:\n\u001b[32m--> \u001b[39m\u001b[32m460\u001b[39m     \u001b[38;5;28;01mfor\u001b[39;00m a \u001b[38;5;129;01min\u001b[39;00m result:\n\u001b[32m    461\u001b[39m         \u001b[38;5;28;01mreturn\u001b[39;00m a\n\u001b[32m    462\u001b[39m \u001b[38;5;28;01mreturn\u001b[39;00m result\n",
      "\u001b[36mFile \u001b[39m\u001b[32m~\\miniconda3\\envs\\wakeupfunction\\Lib\\site-packages\\speech_recognition\\__init__.py:530\u001b[39m, in \u001b[36mRecognizer._listen\u001b[39m\u001b[34m(self, source, timeout, phrase_time_limit, snowboy_configuration, stream)\u001b[39m\n\u001b[32m    527\u001b[39m \u001b[38;5;28;01mif\u001b[39;00m phrase_time_limit \u001b[38;5;129;01mand\u001b[39;00m elapsed_time - phrase_start_time > phrase_time_limit:\n\u001b[32m    528\u001b[39m     \u001b[38;5;28;01mbreak\u001b[39;00m\n\u001b[32m--> \u001b[39m\u001b[32m530\u001b[39m buffer = source.stream.read(source.CHUNK)\n\u001b[32m    531\u001b[39m \u001b[38;5;28;01mif\u001b[39;00m \u001b[38;5;28mlen\u001b[39m(buffer) == \u001b[32m0\u001b[39m: \u001b[38;5;28;01mbreak\u001b[39;00m  \u001b[38;5;66;03m# reached end of the stream\u001b[39;00m\n\u001b[32m    532\u001b[39m frames.append(buffer)\n",
      "\u001b[36mFile \u001b[39m\u001b[32m~\\miniconda3\\envs\\wakeupfunction\\Lib\\site-packages\\speech_recognition\\__init__.py:191\u001b[39m, in \u001b[36mMicrophone.MicrophoneStream.read\u001b[39m\u001b[34m(self, size)\u001b[39m\n\u001b[32m    190\u001b[39m \u001b[38;5;28;01mdef\u001b[39;00m\u001b[38;5;250m \u001b[39m\u001b[34mread\u001b[39m(\u001b[38;5;28mself\u001b[39m, size):\n\u001b[32m--> \u001b[39m\u001b[32m191\u001b[39m     \u001b[38;5;28;01mreturn\u001b[39;00m \u001b[38;5;28mself\u001b[39m.pyaudio_stream.read(size, exception_on_overflow=\u001b[38;5;28;01mFalse\u001b[39;00m)\n",
      "\u001b[36mFile \u001b[39m\u001b[32m~\\miniconda3\\envs\\wakeupfunction\\Lib\\site-packages\\pyaudio.py:608\u001b[39m, in \u001b[36mStream.read\u001b[39m\u001b[34m(self, num_frames, exception_on_overflow)\u001b[39m\n\u001b[32m    604\u001b[39m \u001b[38;5;28;01mif\u001b[39;00m \u001b[38;5;129;01mnot\u001b[39;00m \u001b[38;5;28mself\u001b[39m._is_input:\n\u001b[32m    605\u001b[39m     \u001b[38;5;28;01mraise\u001b[39;00m \u001b[38;5;167;01mIOError\u001b[39;00m(\u001b[33m\"\u001b[39m\u001b[33mNot input stream\u001b[39m\u001b[33m\"\u001b[39m,\n\u001b[32m    606\u001b[39m                   paCanNotReadFromAnOutputOnlyStream)\n\u001b[32m--> \u001b[39m\u001b[32m608\u001b[39m \u001b[38;5;28;01mreturn\u001b[39;00m pa.read_stream(\u001b[38;5;28mself\u001b[39m._stream, num_frames, exception_on_overflow)\n",
      "\u001b[31mKeyboardInterrupt\u001b[39m: "
     ]
    }
   ],
   "source": [
    "if __name__ == \"__main__\":\n",
    "    listen_for_wake_word()"
   ]
  },
  {
   "cell_type": "code",
   "execution_count": null,
   "id": "cd4dbab4-26bf-4d3b-880f-f8dac1fb5d78",
   "metadata": {},
   "outputs": [],
   "source": []
  }
 ],
 "metadata": {
  "kernelspec": {
   "display_name": "Python 3 (ipykernel)",
   "language": "python",
   "name": "python3"
  },
  "language_info": {
   "codemirror_mode": {
    "name": "ipython",
    "version": 3
   },
   "file_extension": ".py",
   "mimetype": "text/x-python",
   "name": "python",
   "nbconvert_exporter": "python",
   "pygments_lexer": "ipython3",
   "version": "3.11.13"
  }
 },
 "nbformat": 4,
 "nbformat_minor": 5
}
