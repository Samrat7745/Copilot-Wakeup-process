{
 "cells": [
  {
   "cell_type": "code",
   "execution_count": 7,
   "id": "2bda8822-f31a-4c1d-a296-813aa45e218b",
   "metadata": {},
   "outputs": [],
   "source": [
    "import threading\n",
    "import speech_recognition as sr\n",
    "import keyboard\n",
    "import uiautomation as auto\n",
    "import winsound"
   ]
  },
  {
   "cell_type": "code",
   "execution_count": 8,
   "id": "64eafe55-f327-4074-92d3-6b423de9d1f6",
   "metadata": {},
   "outputs": [],
   "source": [
    "r = sr.Recognizer()"
   ]
  },
  {
   "cell_type": "code",
   "execution_count": 9,
   "id": "ad5aa7f2-94d8-4489-8a39-247c42a5c89e",
   "metadata": {},
   "outputs": [],
   "source": [
    "def inputwait( tout = None, ptlim = None):\n",
    "    while True:\n",
    "        with sr.Microphone() as source:\n",
    "            audio_input = r.listen(source,timeout=tout, phrase_time_limit=ptlim)\n",
    "            try:\n",
    "                text= r.recognize_google(audio_input)\n",
    "                return text\n",
    "            except sr.WaitTimeoutError:\n",
    "                None\n",
    "            \n",
    "            except sr.UnknownValueError:\n",
    "                None\n",
    "            \n",
    "            except sr.RequestError as e:\n",
    "                None"
   ]
  },
  {
   "cell_type": "code",
   "execution_count": 10,
   "id": "c5d12f34-2a4a-436f-b1f7-d5e9f8b4a3b3",
   "metadata": {},
   "outputs": [],
   "source": [
    "def callcopilot():\n",
    "    keyboard.press('alt')\n",
    "    keyboard.press_and_release('space')\n",
    "    keyboard.release('alt')"
   ]
  },
  {
   "cell_type": "code",
   "execution_count": 11,
   "id": "e82fb8bd-a522-4d9a-9ca7-9372e9805b82",
   "metadata": {},
   "outputs": [],
   "source": [
    "def asktocopilot():\n",
    "    copilot_window = auto.WindowControl(Name='Copilot')\n",
    "    if not copilot_window.Exists(3,1):\n",
    "        print(\"Copilot window not found\")\n",
    "        return\n",
    "\n",
    "    # Access the input text box\n",
    "    input_box = copilot_window.EditControl(AutomationId=\"InputTextBox\")\n",
    "\n",
    "    \n",
    "    value_pattern = input_box.GetValuePattern()\n",
    "    while True:\n",
    "        text = inputwait()\n",
    "        winsound.PlaySound(\"ding2.wav\", winsound.SND_FILENAME)\n",
    "        if text.lower() == \"exit\":\n",
    "            if copilot_window.Exists(3):\n",
    "                close_button = copilot_window.ButtonControl(AutomationId=\"Close\")\n",
    "                if close_button.Exists(3):\n",
    "                    close_button.GetInvokePattern().Invoke()\n",
    "                break\n",
    "            else:\n",
    "                break\n",
    "    \n",
    "        # Always refocus before typing\n",
    "        value_pattern.SetValue(text)  # Sets text directly, doesn't need focus\n",
    "        auto.SendKeys(\"{Enter}\")      # Still press Enter to submit"
   ]
  },
  {
   "cell_type": "code",
   "execution_count": 12,
   "id": "d8c0a8bd-3c5b-4d62-96da-b74fce8b023c",
   "metadata": {},
   "outputs": [],
   "source": [
    "def waitforwakeupcall():\n",
    "    while True:\n",
    "        call = inputwait()\n",
    "        if call.lower() == \"hello\":\n",
    "            winsound.PlaySound(\"ding1.wav\", winsound.SND_FILENAME)\n",
    "            callcopilot()\n",
    "            asktocopilot()\n",
    "        if \"stop\" in call.lower():\n",
    "            break"
   ]
  },
  {
   "cell_type": "code",
   "execution_count": 13,
   "id": "df68f8f4-3fc3-4066-bdf6-9b3f69fd757d",
   "metadata": {},
   "outputs": [
    {
     "name": "stdout",
     "output_type": "stream",
     "text": [
      "Copilot window not found\n"
     ]
    }
   ],
   "source": [
    "if __name__ == \"__main__\":\n",
    "    waitforwakeupcall()"
   ]
  },
  {
   "cell_type": "code",
   "execution_count": null,
   "id": "eb5d724c-575c-4c60-9315-2defc6781152",
   "metadata": {},
   "outputs": [],
   "source": []
  }
 ],
 "metadata": {
  "kernelspec": {
   "display_name": "Python 3 (ipykernel)",
   "language": "python",
   "name": "python3"
  },
  "language_info": {
   "codemirror_mode": {
    "name": "ipython",
    "version": 3
   },
   "file_extension": ".py",
   "mimetype": "text/x-python",
   "name": "python",
   "nbconvert_exporter": "python",
   "pygments_lexer": "ipython3",
   "version": "3.11.13"
  }
 },
 "nbformat": 4,
 "nbformat_minor": 5
}
