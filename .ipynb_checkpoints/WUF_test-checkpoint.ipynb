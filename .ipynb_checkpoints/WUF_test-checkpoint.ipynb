{
 "cells": [
  {
   "cell_type": "code",
   "execution_count": 36,
   "id": "2bda8822-f31a-4c1d-a296-813aa45e218b",
   "metadata": {},
   "outputs": [],
   "source": [
    "import threading\n",
    "import speech_recognition as sr\n",
    "import keyboard\n",
    "import uiautomation as auto\n",
    "import winsound"
   ]
  },
  {
   "cell_type": "code",
   "execution_count": 37,
   "id": "64eafe55-f327-4074-92d3-6b423de9d1f6",
   "metadata": {},
   "outputs": [],
   "source": [
    "r = sr.Recognizer()"
   ]
  },
  {
   "cell_type": "code",
   "execution_count": 38,
   "id": "ad5aa7f2-94d8-4489-8a39-247c42a5c89e",
   "metadata": {},
   "outputs": [],
   "source": [
    "def inputwait( tout = None, ptlim = None):\n",
    "    while True:\n",
    "        with sr.Microphone() as source:\n",
    "            audio_input = r.listen(source,timeout=tout, phrase_time_limit=ptlim)\n",
    "            try:\n",
    "                text= r.recognize_google(audio_input)\n",
    "                return text\n",
    "            except sr.WaitTimeoutError:\n",
    "                None\n",
    "            \n",
    "            except sr.UnknownValueError:\n",
    "                None\n",
    "            \n",
    "            except sr.RequestError as e:\n",
    "                None"
   ]
  },
  {
   "cell_type": "code",
   "execution_count": 39,
   "id": "c5d12f34-2a4a-436f-b1f7-d5e9f8b4a3b3",
   "metadata": {},
   "outputs": [],
   "source": [
    "def callcopilot():\n",
    "    keyboard.press('alt')\n",
    "    keyboard.press_and_release('space')\n",
    "    keyboard.release('alt')"
   ]
  },
  {
   "cell_type": "code",
   "execution_count": 40,
   "id": "e82fb8bd-a522-4d9a-9ca7-9372e9805b82",
   "metadata": {},
   "outputs": [],
   "source": [
    "def asktocopilot():\n",
    "    copilot_window = auto.WindowControl(Name='Copilot')\n",
    "    if not copilot_window.Exists(3,1):\n",
    "        print(\"Copilot window not found\")\n",
    "        exit(0)\n",
    "\n",
    "    # Access the input text box\n",
    "    input_box = copilot_window.EditControl(AutomationId=\"InputTextBox\")\n",
    "\n",
    "    \n",
    "    value_pattern = input_box.GetValuePattern()\n",
    "    while True:\n",
    "        text = inputwait()\n",
    "        winsound.PlaySound(\"ding1.wav\", winsound.SND_FILENAME)\n",
    "        if text.lower() == \"exit\":\n",
    "            if copilot_window.Exists(3):\n",
    "                close_button = copilot_window.ButtonControl(AutomationId=\"Close\")\n",
    "                if close_button.Exists(3):\n",
    "                    close_button.GetInvokePattern().Invoke()\n",
    "                break\n",
    "            else:\n",
    "                break\n",
    "    \n",
    "        # Always refocus before typing\n",
    "        value_pattern.SetValue(text)  # Sets text directly, doesn't need focus\n",
    "        auto.SendKeys(\"{Enter}\")      # Still press Enter to submit"
   ]
  },
  {
   "cell_type": "code",
   "execution_count": 43,
   "id": "d8c0a8bd-3c5b-4d62-96da-b74fce8b023c",
   "metadata": {},
   "outputs": [],
   "source": [
    "def waitforwakeupcall():\n",
    "    while True:\n",
    "        call = inputwait()\n",
    "        if call.lower() == \"hello\":\n",
    "            winsound.PlaySound(\"ding1.wav\", winsound.SND_FILENAME)\n",
    "            callcopilot()\n",
    "            asktocopilot()\n",
    "        if \"stop\" in call.lower():\n",
    "            exit()\n",
    "            break"
   ]
  },
  {
   "cell_type": "code",
   "execution_count": 44,
   "id": "df68f8f4-3fc3-4066-bdf6-9b3f69fd757d",
   "metadata": {},
   "outputs": [
    {
     "name": "stdout",
     "output_type": "stream",
     "text": [
      "Copilot window not found\n",
      "2025-09-02 04:08:01.517 353036647.py[11] asktocopilot -> Find Control Timeout(10s): {AutomationId: 'InputTextBox', ControlType: EditControl}\n"
     ]
    },
    {
     "ename": "LookupError",
     "evalue": "Find Control Timeout(10s): {AutomationId: 'InputTextBox', ControlType: EditControl}",
     "output_type": "error",
     "traceback": [
      "\u001b[31m---------------------------------------------------------------------------\u001b[39m",
      "\u001b[31mLookupError\u001b[39m                               Traceback (most recent call last)",
      "\u001b[32m~\\AppData\\Local\\Temp\\ipykernel_25536\\3598348645.py\u001b[39m in \u001b[36m?\u001b[39m\u001b[34m()\u001b[39m\n\u001b[32m      1\u001b[39m \u001b[38;5;28;01mif\u001b[39;00m __name__ == \u001b[33m\"__main__\"\u001b[39m:\n\u001b[32m----> \u001b[39m\u001b[32m2\u001b[39m     waitforwakeupcall()\n",
      "\u001b[32m~\\AppData\\Local\\Temp\\ipykernel_25536\\3597468555.py\u001b[39m in \u001b[36m?\u001b[39m\u001b[34m()\u001b[39m\n\u001b[32m      3\u001b[39m         call = inputwait()\n\u001b[32m      4\u001b[39m         winsound.PlaySound(\u001b[33m\"ding1.wav\"\u001b[39m, winsound.SND_FILENAME)\n\u001b[32m      5\u001b[39m         \u001b[38;5;28;01mif\u001b[39;00m call.lower() == \u001b[33m\"hello\"\u001b[39m:\n\u001b[32m      6\u001b[39m             callcopilot()\n\u001b[32m----> \u001b[39m\u001b[32m7\u001b[39m             asktocopilot()\n\u001b[32m      8\u001b[39m         \u001b[38;5;28;01mif\u001b[39;00m \u001b[33m\"stop\"\u001b[39m \u001b[38;5;28;01min\u001b[39;00m call.lower():\n\u001b[32m      9\u001b[39m             exit()\n\u001b[32m     10\u001b[39m             \u001b[38;5;28;01mbreak\u001b[39;00m\n",
      "\u001b[32m~\\AppData\\Local\\Temp\\ipykernel_25536\\353036647.py\u001b[39m in \u001b[36m?\u001b[39m\u001b[34m()\u001b[39m\n\u001b[32m      7\u001b[39m     \u001b[38;5;66;03m# Access the input text box\u001b[39;00m\n\u001b[32m      8\u001b[39m     input_box = copilot_window.EditControl(AutomationId=\u001b[33m\"InputTextBox\"\u001b[39m)\n\u001b[32m      9\u001b[39m \n\u001b[32m     10\u001b[39m \n\u001b[32m---> \u001b[39m\u001b[32m11\u001b[39m     value_pattern = input_box.GetValuePattern()\n\u001b[32m     12\u001b[39m     \u001b[38;5;28;01mwhile\u001b[39;00m \u001b[38;5;28;01mTrue\u001b[39;00m:\n\u001b[32m     13\u001b[39m         text = inputwait()\n\u001b[32m     14\u001b[39m         winsound.PlaySound(\u001b[33m\"ding1.wav\"\u001b[39m, winsound.SND_FILENAME)\n",
      "\u001b[32m~\\miniconda3\\envs\\wakeupfunction\\Lib\\site-packages\\uiautomation\\uiautomation.py\u001b[39m in \u001b[36m?\u001b[39m\u001b[34m(self)\u001b[39m\n\u001b[32m   8840\u001b[39m     \u001b[38;5;28;01mdef\u001b[39;00m GetValuePattern(self) -> ValuePattern:\n\u001b[32m   8841\u001b[39m         \"\"\"\n\u001b[32m   8842\u001b[39m         Return `ValuePattern` \u001b[38;5;28;01mif\u001b[39;00m it supports the pattern \u001b[38;5;28;01melse\u001b[39;00m \u001b[38;5;28;01mNone\u001b[39;00m(Conditional support according to MSDN).\n\u001b[32m   8843\u001b[39m         \"\"\"\n\u001b[32m-> \u001b[39m\u001b[32m8844\u001b[39m         \u001b[38;5;28;01mreturn\u001b[39;00m self.GetPattern(PatternId.ValuePattern)\n",
      "\u001b[32m~\\miniconda3\\envs\\wakeupfunction\\Lib\\site-packages\\uiautomation\\uiautomation.py\u001b[39m in \u001b[36m?\u001b[39m\u001b[34m(self, patternId)\u001b[39m\n\u001b[32m   6871\u001b[39m             \u001b[38;5;28;01mif\u001b[39;00m pattern:\n\u001b[32m   6872\u001b[39m                 subPattern = CreatePattern(patternId, pattern)\n\u001b[32m   6873\u001b[39m                 self._supportedPatterns[patternId] = subPattern\n\u001b[32m   6874\u001b[39m                 \u001b[38;5;28;01mreturn\u001b[39;00m subPattern\n\u001b[32m-> \u001b[39m\u001b[32m6875\u001b[39m         \u001b[38;5;28;01mexcept\u001b[39;00m comtypes.COMError \u001b[38;5;28;01mas\u001b[39;00m ex:\n\u001b[32m   6876\u001b[39m             \u001b[38;5;28;01mpass\u001b[39;00m\n",
      "\u001b[32m~\\miniconda3\\envs\\wakeupfunction\\Lib\\site-packages\\uiautomation\\uiautomation.py\u001b[39m in \u001b[36m?\u001b[39m\u001b[34m(self)\u001b[39m\n\u001b[32m   6931\u001b[39m         Property Element.\n\u001b[32m   6932\u001b[39m         Return `ctypes.POINTER(IUIAutomationElement)`.\n\u001b[32m   6933\u001b[39m         \"\"\"\n\u001b[32m   6934\u001b[39m         \u001b[38;5;28;01mif\u001b[39;00m \u001b[38;5;28;01mnot\u001b[39;00m self._element:\n\u001b[32m-> \u001b[39m\u001b[32m6935\u001b[39m             self.Refind(maxSearchSeconds=TIME_OUT_SECOND, searchIntervalSeconds=self.searchInterval)\n\u001b[32m   6936\u001b[39m         \u001b[38;5;28;01mreturn\u001b[39;00m self._element\n",
      "\u001b[32m~\\miniconda3\\envs\\wakeupfunction\\Lib\\site-packages\\uiautomation\\uiautomation.py\u001b[39m in \u001b[36m?\u001b[39m\u001b[34m(self, maxSearchSeconds, searchIntervalSeconds, raiseException)\u001b[39m\n\u001b[32m   7181\u001b[39m         \"\"\"\n\u001b[32m   7182\u001b[39m         \u001b[38;5;28;01mif\u001b[39;00m \u001b[38;5;28;01mnot\u001b[39;00m self.Exists(maxSearchSeconds, searchIntervalSeconds, \u001b[38;5;28;01mFalse\u001b[39;00m \u001b[38;5;28;01mif\u001b[39;00m raiseException \u001b[38;5;28;01melse\u001b[39;00m DEBUG_EXIST_DISAPPEAR):\n\u001b[32m   7183\u001b[39m             \u001b[38;5;28;01mif\u001b[39;00m raiseException:\n\u001b[32m   7184\u001b[39m                 Logger.ColorfullyLog(\u001b[33m'<Color=Red>Find Control Timeout({}s): </Color>{}'\u001b[39m.format(maxSearchSeconds, self.GetColorfulSearchPropertiesStr()))\n\u001b[32m-> \u001b[39m\u001b[32m7185\u001b[39m                 \u001b[38;5;28;01mraise\u001b[39;00m LookupError(\u001b[33m'Find Control Timeout({}s): {}'\u001b[39m.format(maxSearchSeconds, self.GetSearchPropertiesStr()))\n\u001b[32m   7186\u001b[39m             \u001b[38;5;28;01melse\u001b[39;00m:\n\u001b[32m   7187\u001b[39m                 \u001b[38;5;28;01mreturn\u001b[39;00m \u001b[38;5;28;01mFalse\u001b[39;00m\n\u001b[32m   7188\u001b[39m         \u001b[38;5;28;01mreturn\u001b[39;00m \u001b[38;5;28;01mTrue\u001b[39;00m\n",
      "\u001b[31mLookupError\u001b[39m: Find Control Timeout(10s): {AutomationId: 'InputTextBox', ControlType: EditControl}"
     ]
    }
   ],
   "source": [
    "if __name__ == \"__main__\":\n",
    "    waitforwakeupcall()"
   ]
  },
  {
   "cell_type": "code",
   "execution_count": null,
   "id": "eb5d724c-575c-4c60-9315-2defc6781152",
   "metadata": {},
   "outputs": [],
   "source": []
  }
 ],
 "metadata": {
  "kernelspec": {
   "display_name": "Python 3 (ipykernel)",
   "language": "python",
   "name": "python3"
  },
  "language_info": {
   "codemirror_mode": {
    "name": "ipython",
    "version": 3
   },
   "file_extension": ".py",
   "mimetype": "text/x-python",
   "name": "python",
   "nbconvert_exporter": "python",
   "pygments_lexer": "ipython3",
   "version": "3.11.13"
  }
 },
 "nbformat": 4,
 "nbformat_minor": 5
}
